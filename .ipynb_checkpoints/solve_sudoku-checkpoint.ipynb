{
 "cells": [
  {
   "cell_type": "code",
   "execution_count": 74,
   "metadata": {},
   "outputs": [],
   "source": [
    "from helper_functions import extract_digit, find_puzzle\n",
    "from tensorflow.keras.preprocessing.image import img_to_array\n",
    "from tensorflow.keras.models import load_model\n",
    "from sudoku import Sudoku\n",
    "import imutils\n",
    "import cv2\n",
    "import numpy as np"
   ]
  },
  {
   "cell_type": "code",
   "execution_count": 20,
   "metadata": {},
   "outputs": [],
   "source": [
    "model = load_model('./digit_weights.h5')"
   ]
  },
  {
   "cell_type": "code",
   "execution_count": 21,
   "metadata": {},
   "outputs": [],
   "source": [
    "image = cv2.imread('./sudoku_puzzle.jpg')\n",
    "image = imutils.resize(image, width=600)"
   ]
  },
  {
   "cell_type": "code",
   "execution_count": 36,
   "metadata": {},
   "outputs": [],
   "source": [
    "(puzzleImage, warped) = find_puzzle(image)"
   ]
  },
  {
   "cell_type": "code",
   "execution_count": 37,
   "metadata": {},
   "outputs": [],
   "source": [
    "board = np.zeros((9, 9), dtype=\"int\")"
   ]
  },
  {
   "cell_type": "code",
   "execution_count": 38,
   "metadata": {},
   "outputs": [],
   "source": [
    "stepX = warped.shape[1] // 9\n",
    "stepY = warped.shape[0] // 9"
   ]
  },
  {
   "cell_type": "code",
   "execution_count": 82,
   "metadata": {},
   "outputs": [],
   "source": [
    "cellLocs = []\n",
    "for y in range(0, 9):\n",
    "    row = []\n",
    "    for x in range(0, 9):\n",
    "        startX = x * stepX\n",
    "        startY = y * stepY\n",
    "        endX = (x + 1) * stepX\n",
    "        endY = (y + 1) * stepY\n",
    "        row.append((startX, startY, endX, endY))\n",
    "        cell = warped[startY:endY, startX:endX]\n",
    "        digit = extract_digits(cell)\n",
    "        if digit is not None:\n",
    "            roi = cv2.resize(digit, (28, 28))\n",
    "            roi = roi.astype(\"float\") / 255.0\n",
    "            roi = img_to_array(roi)\n",
    "            roi = np.expand_dims(roi, axis=0)\n",
    "            pred = model.predict(roi).argmax(axis=1)[0]\n",
    "            board[y, x] = pred\n",
    "        cellLocs.append(row)"
   ]
  },
  {
   "cell_type": "code",
   "execution_count": null,
   "metadata": {},
   "outputs": [],
   "source": [
    "cv2.imshow(\"helo\",cell)\n",
    "cv2.waitKey(0)"
   ]
  },
  {
   "cell_type": "code",
   "execution_count": 62,
   "metadata": {},
   "outputs": [
    {
     "data": {
      "text/plain": [
       "array([[161, 159, 158, ..., 165, 165, 165],\n",
       "       [133, 132, 131, ..., 156, 158, 159],\n",
       "       [ 90,  91,  91, ..., 127, 130, 132],\n",
       "       ...,\n",
       "       [ 65,  73, 113, ..., 169, 169, 164],\n",
       "       [ 62,  70, 108, ..., 168, 168, 164],\n",
       "       [ 65,  73, 107, ..., 167, 166, 163]], dtype=uint8)"
      ]
     },
     "execution_count": 62,
     "metadata": {},
     "output_type": "execute_result"
    }
   ],
   "source": [
    "cell"
   ]
  },
  {
   "cell_type": "code",
   "execution_count": 81,
   "metadata": {},
   "outputs": [],
   "source": [
    "from imutils.perspective import four_point_transform\n",
    "from skimage.segmentation import clear_border\n",
    "import numpy as np\n",
    "import imutils\n",
    "import cv2\n",
    "\n",
    "def extract_digits(cell, debug=False):\n",
    "    thresh = cv2.threshold(cell, 0, 255,\n",
    "        cv2.THRESH_BINARY_INV | cv2.THRESH_OTSU)[1]\n",
    "    thresh = clear_border(thresh)\n",
    "    cnts = cv2.findContours(thresh.copy(), cv2.RETR_EXTERNAL,\n",
    "        cv2.CHAIN_APPROX_SIMPLE)\n",
    "    cnts = imutils.grab_contours(cnts)\n",
    "\n",
    "    if len(cnts) == 0:\n",
    "        return None\n",
    "\n",
    "    c = max(cnts, key=cv2.contourArea)\n",
    "    mask = np.zeros(thresh.shape, dtype=\"uint8\")\n",
    "    cv2.drawContours(mask, [c], -1, 255, -1)\n",
    "\n",
    "    (h, w) = thresh.shape\n",
    "    percentFilled = cv2.countNonZero(mask) / float(w * h)\n",
    "\n",
    "    if percentFilled < 0.03:\n",
    "        return None\n",
    "\n",
    "    digit = cv2.bitwise_and(thresh, thresh, mask=mask)\n",
    "    return digit\n"
   ]
  },
  {
   "cell_type": "code",
   "execution_count": null,
   "metadata": {},
   "outputs": [],
   "source": []
  }
 ],
 "metadata": {
  "kernelspec": {
   "display_name": "Python 3",
   "language": "python",
   "name": "python3"
  },
  "language_info": {
   "codemirror_mode": {
    "name": "ipython",
    "version": 3
   },
   "file_extension": ".py",
   "mimetype": "text/x-python",
   "name": "python",
   "nbconvert_exporter": "python",
   "pygments_lexer": "ipython3",
   "version": "3.7.7"
  }
 },
 "nbformat": 4,
 "nbformat_minor": 4
}
