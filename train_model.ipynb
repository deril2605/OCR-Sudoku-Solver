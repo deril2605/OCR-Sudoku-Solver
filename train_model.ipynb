{
 "cells": [
  {
   "cell_type": "code",
   "execution_count": 24,
   "metadata": {},
   "outputs": [],
   "source": [
    "import tensorflow as tf\n",
    "from tensorflow.keras.models import Sequential\n",
    "from tensorflow.keras.layers import Dense, Conv2D, Flatten, Dropout, MaxPooling2D\n",
    "from tensorflow.keras.optimizers import Adam\n",
    "from sklearn.preprocessing import LabelBinarizer\n",
    "from tensorflow.keras.datasets import mnist\n",
    "from sklearn.metrics import classification_report"
   ]
  },
  {
   "cell_type": "code",
   "execution_count": 12,
   "metadata": {},
   "outputs": [],
   "source": [
    "def build(width, height, depth, classes):\n",
    "    model = Sequential()\n",
    "    inputShape = (width, height, depth)\n",
    "    \n",
    "    model.add(Conv2D(32, (5,5), padding='same', input_shape=inputShape, activation='relu'))\n",
    "    model.add(MaxPooling2D(pool_size=(2,2)))\n",
    "    model.add(Conv2D(32, (3,3), padding='same', activation='relu'))\n",
    "    model.add(MaxPooling2D(pool_size=(2,2)))\n",
    "    \n",
    "    model.add(Flatten())\n",
    "    model.add(Dense(64, activation='relu'))\n",
    "    model.add(Dropout(0.5))\n",
    "    \n",
    "    model.add(Dense(64, activation='relu'))\n",
    "    model.add(Dropout(0.5))\n",
    "    \n",
    "    model.add(Dense(classes, activation='softmax'))\n",
    "    \n",
    "    return model"
   ]
  },
  {
   "cell_type": "code",
   "execution_count": 15,
   "metadata": {},
   "outputs": [],
   "source": [
    "LR = 1e-3\n",
    "EPOCHS = 10\n",
    "BS = 128\n",
    "(trainX,trainy), (testX, testy) = mnist.load_data()"
   ]
  },
  {
   "cell_type": "code",
   "execution_count": 18,
   "metadata": {},
   "outputs": [],
   "source": [
    "trainX=trainX.reshape(trainX.shape[0], 28,28,1)\n",
    "testX=testX.reshape(testX.shape[0], 28,28,1)"
   ]
  },
  {
   "cell_type": "code",
   "execution_count": 19,
   "metadata": {},
   "outputs": [],
   "source": [
    "trainX = trainX.astype('float32')/255.0\n",
    "testX = testX.astype('float32')/255.0"
   ]
  },
  {
   "cell_type": "code",
   "execution_count": 20,
   "metadata": {},
   "outputs": [],
   "source": [
    "lb = LabelBinarizer()\n",
    "trainy = lb.fit_transform(trainy)\n",
    "testy = lb.transform(testy)"
   ]
  },
  {
   "cell_type": "code",
   "execution_count": 21,
   "metadata": {},
   "outputs": [],
   "source": [
    "opt = Adam(lr=LR)\n",
    "model = build(28,28,1,10)\n",
    "model.compile(optimizer=opt, loss='categorical_crossentropy', metrics=['accuracy'])"
   ]
  },
  {
   "cell_type": "code",
   "execution_count": 22,
   "metadata": {},
   "outputs": [
    {
     "name": "stdout",
     "output_type": "stream",
     "text": [
      "Train on 60000 samples, validate on 10000 samples\n",
      "Epoch 1/10\n",
      "60000/60000 [==============================] - 52s 860us/sample - loss: 0.7111 - accuracy: 0.7637 - val_loss: 0.1104 - val_accuracy: 0.9691\n",
      "Epoch 2/10\n",
      "60000/60000 [==============================] - 58s 964us/sample - loss: 0.2615 - accuracy: 0.9223 - val_loss: 0.0705 - val_accuracy: 0.9802\n",
      "Epoch 3/10\n",
      "60000/60000 [==============================] - 54s 900us/sample - loss: 0.1925 - accuracy: 0.9453 - val_loss: 0.0519 - val_accuracy: 0.9854\n",
      "Epoch 4/10\n",
      "60000/60000 [==============================] - 48s 798us/sample - loss: 0.1572 - accuracy: 0.9548 - val_loss: 0.0459 - val_accuracy: 0.9861\n",
      "Epoch 5/10\n",
      "60000/60000 [==============================] - 49s 812us/sample - loss: 0.1368 - accuracy: 0.9617 - val_loss: 0.0393 - val_accuracy: 0.9873\n",
      "Epoch 6/10\n",
      "60000/60000 [==============================] - 49s 809us/sample - loss: 0.1231 - accuracy: 0.9650 - val_loss: 0.0413 - val_accuracy: 0.9875\n",
      "Epoch 7/10\n",
      "60000/60000 [==============================] - 49s 809us/sample - loss: 0.1119 - accuracy: 0.9684 - val_loss: 0.0370 - val_accuracy: 0.9897\n",
      "Epoch 8/10\n",
      "60000/60000 [==============================] - 49s 810us/sample - loss: 0.1018 - accuracy: 0.9710 - val_loss: 0.0342 - val_accuracy: 0.9902\n",
      "Epoch 9/10\n",
      "60000/60000 [==============================] - 48s 805us/sample - loss: 0.0952 - accuracy: 0.9716 - val_loss: 0.0402 - val_accuracy: 0.9894\n",
      "Epoch 10/10\n",
      "60000/60000 [==============================] - 49s 809us/sample - loss: 0.0900 - accuracy: 0.9736 - val_loss: 0.0334 - val_accuracy: 0.9909\n"
     ]
    }
   ],
   "source": [
    "h = model.fit(trainX,trainy, validation_data=(testX,testy), batch_size=BS, epochs=EPOCHS, verbose=1)"
   ]
  },
  {
   "cell_type": "code",
   "execution_count": 26,
   "metadata": {},
   "outputs": [
    {
     "name": "stdout",
     "output_type": "stream",
     "text": [
      "              precision    recall  f1-score   support\n",
      "\n",
      "           0       0.99      1.00      0.99       980\n",
      "           1       0.99      1.00      1.00      1135\n",
      "           2       0.99      1.00      0.99      1032\n",
      "           3       0.99      1.00      0.99      1010\n",
      "           4       0.99      0.99      0.99       982\n",
      "           5       0.98      0.99      0.98       892\n",
      "           6       1.00      0.98      0.99       958\n",
      "           7       0.99      0.99      0.99      1028\n",
      "           8       0.99      0.99      0.99       974\n",
      "           9       0.99      0.98      0.99      1009\n",
      "\n",
      "    accuracy                           0.99     10000\n",
      "   macro avg       0.99      0.99      0.99     10000\n",
      "weighted avg       0.99      0.99      0.99     10000\n",
      "\n"
     ]
    }
   ],
   "source": [
    "predictions = model.predict(testX)\n",
    "print(classification_report(\n",
    "    testy.argmax(axis=1),\n",
    "    predictions.argmax(axis=1),\n",
    "    target_names=[str(x) for x in lb.classes_]))"
   ]
  },
  {
   "cell_type": "code",
   "execution_count": 27,
   "metadata": {},
   "outputs": [],
   "source": [
    "model.save('digit_weights.h5')"
   ]
  },
  {
   "cell_type": "code",
   "execution_count": null,
   "metadata": {},
   "outputs": [],
   "source": []
  }
 ],
 "metadata": {
  "kernelspec": {
   "display_name": "Python 3",
   "language": "python",
   "name": "python3"
  },
  "language_info": {
   "codemirror_mode": {
    "name": "ipython",
    "version": 3
   },
   "file_extension": ".py",
   "mimetype": "text/x-python",
   "name": "python",
   "nbconvert_exporter": "python",
   "pygments_lexer": "ipython3",
   "version": "3.7.7"
  }
 },
 "nbformat": 4,
 "nbformat_minor": 4
}
